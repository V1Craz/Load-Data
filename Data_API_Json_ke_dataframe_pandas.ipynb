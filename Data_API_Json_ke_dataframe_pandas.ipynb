{
  "nbformat": 4,
  "nbformat_minor": 0,
  "metadata": {
    "colab": {
      "name": "Data API Json ke dataframe pandas.ipynb",
      "provenance": [],
      "collapsed_sections": []
    },
    "kernelspec": {
      "name": "python3",
      "display_name": "Python 3"
    }
  },
  "cells": [
    {
      "cell_type": "markdown",
      "metadata": {
        "id": "jpZhEPGsDnIR"
      },
      "source": [
        "Mengambil data Json dari URL dan mengubahnya menjadi dataframe pandas"
      ]
    },
    {
      "cell_type": "code",
      "metadata": {
        "id": "NASqScCbAtgG",
        "colab": {
          "base_uri": "https://localhost:8080/"
        },
        "outputId": "1f12f613-f4a4-467e-d735-21bfd3b56ec6"
      },
      "source": [
        "import json\r\n",
        "from urllib import request\r\n",
        "import pandas as pd\r\n",
        "\r\n",
        "url = \"https://indonesia-covid-19.mathdro.id/api/provinsi\"\r\n",
        "\r\n",
        "\r\n",
        "response = requests.get(url)\r\n",
        "data = response.json()\r\n",
        "recs = data['data']\r\n",
        "df = json_normalize(recs)\r\n",
        "print(df)"
      ],
      "execution_count": 24,
      "outputs": [
        {
          "output_type": "stream",
          "text": [
            "    fid  kodeProvi                    provinsi  kasusPosi  kasusSemb  kasusMeni\n",
            "0    11         31                 DKI Jakarta     346975     333848       5712\n",
            "1    12         32                  Jawa Barat     219940     181128       2514\n",
            "2    13         33                 Jawa Tengah     156757     107109       6742\n",
            "3    15         35                  Jawa Timur     131450     119181       9257\n",
            "4    23         64            Kalimantan Timur      57292      49422       1340\n",
            "5    27         73            Sulawesi Selatan      57172      52941        869\n",
            "6    17         51                        Bali      35227      32264        966\n",
            "7     4         14                        Riau      31837      30079        774\n",
            "8    16         36                      Banten      30192      22444        614\n",
            "9     3         13              Sumatera Barat      29554      27894        653\n",
            "10   14         34  Daerah Istimewa Yogyakarta      28749      22850        698\n",
            "11    2         12              Sumatera Utara      25164      21787        851\n",
            "12   22         63          Kalimantan Selatan      22773      19966        744\n",
            "13   33         94                       Papua      17507       9333        178\n",
            "14    6         16            Sumatera Selatan      16170      14376        781\n",
            "15   25         71              Sulawesi Utara      15076      12022        496\n",
            "16   21         62           Kalimantan Tengah      14323      12646        366\n",
            "17    9         18                     Lampung      12818      11264        670\n",
            "18   26         72             Sulawesi Tengah      10289       8487        263\n",
            "19   28         74           Sulawesi Tenggara      10091       9361        200\n",
            "20   24         65            Kalimantan Utara       9977       7767        152\n",
            "21   19         53         Nusa Tenggara Timur       9798       7588        272\n",
            "22    1         11                        Aceh       9589       7876        387\n",
            "23   18         52         Nusa Tenggara Barat       8851       7170        344\n",
            "24   10         21              Kepulauan Riau       8761       8376        220\n",
            "25   34         91                 Papua Barat       7571       6915        126\n",
            "26    8         19             Bangka Belitung       7543       6904        112\n",
            "27   31         81                      Maluku       7078       6266        105\n",
            "28    5         15                       Jambi       5594       4418         85\n",
            "29   30         76              Sulawesi Barat       5285       4184        106\n",
            "30    7         17                    Bengkulu       5009       4652        147\n",
            "31   29         75                   Gorontalo       4851       4425        136\n",
            "32   20         61            Kalimantan Barat       4766       4308         33\n",
            "33   32         82                Maluku Utara       4040       3436        113\n",
            "34   35          0                   Indonesia          0          0          0\n"
          ],
          "name": "stdout"
        },
        {
          "output_type": "stream",
          "text": [
            "/usr/local/lib/python3.7/dist-packages/ipykernel_launcher.py:11: FutureWarning: pandas.io.json.json_normalize is deprecated, use pandas.json_normalize instead\n",
            "  # This is added back by InteractiveShellApp.init_path()\n"
          ],
          "name": "stderr"
        }
      ]
    }
  ]
}